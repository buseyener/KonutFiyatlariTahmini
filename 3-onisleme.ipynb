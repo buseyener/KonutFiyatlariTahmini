{
 "cells": [
  {
   "cell_type": "code",
   "execution_count": 110,
   "id": "61646bb7-b026-4849-a6e7-32fbb55e304e",
   "metadata": {},
   "outputs": [],
   "source": [
    "import pandas as pd"
   ]
  },
  {
   "cell_type": "code",
   "execution_count": 111,
   "id": "2afae716-d259-4132-897c-a225daff50f4",
   "metadata": {},
   "outputs": [],
   "source": [
    "df = pd.read_csv(\"emlakjet.csv\")"
   ]
  },
  {
   "cell_type": "code",
   "execution_count": 112,
   "id": "582da2a4-4907-4b47-a637-176d880ac69c",
   "metadata": {},
   "outputs": [
    {
     "data": {
      "text/html": [
       "<div>\n",
       "<style scoped>\n",
       "    .dataframe tbody tr th:only-of-type {\n",
       "        vertical-align: middle;\n",
       "    }\n",
       "\n",
       "    .dataframe tbody tr th {\n",
       "        vertical-align: top;\n",
       "    }\n",
       "\n",
       "    .dataframe thead th {\n",
       "        text-align: right;\n",
       "    }\n",
       "</style>\n",
       "<table border=\"1\" class=\"dataframe\">\n",
       "  <thead>\n",
       "    <tr style=\"text-align: right;\">\n",
       "      <th></th>\n",
       "      <th>ilan_ilce</th>\n",
       "      <th>ilan_fiyat</th>\n",
       "      <th>net_metrekare</th>\n",
       "      <th>oda_sayısı</th>\n",
       "      <th>bulunduğu_kat</th>\n",
       "      <th>ısıtma_tipi</th>\n",
       "      <th>krediye_uygunluk</th>\n",
       "      <th>banyo_sayısı</th>\n",
       "      <th>tipi</th>\n",
       "      <th>brüt_metrekare</th>\n",
       "      <th>binanın_yaşı</th>\n",
       "      <th>binanın_kat_sayısı</th>\n",
       "      <th>site_içerisinde</th>\n",
       "    </tr>\n",
       "  </thead>\n",
       "  <tbody>\n",
       "    <tr>\n",
       "      <th>0</th>\n",
       "      <td>Kadıköy</td>\n",
       "      <td>13616020</td>\n",
       "      <td>180</td>\n",
       "      <td>4+2</td>\n",
       "      <td>Çatı Dubleks</td>\n",
       "      <td>Yerden Isıtma</td>\n",
       "      <td>Krediye Uygun</td>\n",
       "      <td>2</td>\n",
       "      <td>Daire</td>\n",
       "      <td>220</td>\n",
       "      <td>5-10</td>\n",
       "      <td>9</td>\n",
       "      <td>Hayır</td>\n",
       "    </tr>\n",
       "    <tr>\n",
       "      <th>1</th>\n",
       "      <td>Kadıköy</td>\n",
       "      <td>14166240</td>\n",
       "      <td>180</td>\n",
       "      <td>5+2</td>\n",
       "      <td>Çatı Dubleks</td>\n",
       "      <td>Merkezi</td>\n",
       "      <td>Krediye Uygun</td>\n",
       "      <td>2</td>\n",
       "      <td>Daire</td>\n",
       "      <td>220</td>\n",
       "      <td>0</td>\n",
       "      <td>15</td>\n",
       "      <td>Hayır</td>\n",
       "    </tr>\n",
       "    <tr>\n",
       "      <th>2</th>\n",
       "      <td>Kadıköy</td>\n",
       "      <td>2430720</td>\n",
       "      <td>50</td>\n",
       "      <td>2+1</td>\n",
       "      <td>1.Kat</td>\n",
       "      <td>Doğalgaz</td>\n",
       "      <td>Krediye Uygun</td>\n",
       "      <td>1</td>\n",
       "      <td>Daire</td>\n",
       "      <td>60</td>\n",
       "      <td>21 Ve Üzeri</td>\n",
       "      <td>4</td>\n",
       "      <td>Hayır</td>\n",
       "    </tr>\n",
       "    <tr>\n",
       "      <th>3</th>\n",
       "      <td>Kadıköy</td>\n",
       "      <td>4219060</td>\n",
       "      <td>63</td>\n",
       "      <td>2+1</td>\n",
       "      <td>5.Kat</td>\n",
       "      <td>Yerden Isıtma</td>\n",
       "      <td>Krediye Uygun</td>\n",
       "      <td>1</td>\n",
       "      <td>Daire</td>\n",
       "      <td>85</td>\n",
       "      <td>0</td>\n",
       "      <td>7</td>\n",
       "      <td>Hayır</td>\n",
       "    </tr>\n",
       "    <tr>\n",
       "      <th>4</th>\n",
       "      <td>Kadıköy</td>\n",
       "      <td>5151360</td>\n",
       "      <td>70</td>\n",
       "      <td>2+1</td>\n",
       "      <td>5.Kat</td>\n",
       "      <td>Merkezi</td>\n",
       "      <td>Krediye Uygun</td>\n",
       "      <td>1</td>\n",
       "      <td>Daire</td>\n",
       "      <td>80</td>\n",
       "      <td>5-10</td>\n",
       "      <td>15</td>\n",
       "      <td>Hayır</td>\n",
       "    </tr>\n",
       "    <tr>\n",
       "      <th>...</th>\n",
       "      <td>...</td>\n",
       "      <td>...</td>\n",
       "      <td>...</td>\n",
       "      <td>...</td>\n",
       "      <td>...</td>\n",
       "      <td>...</td>\n",
       "      <td>...</td>\n",
       "      <td>...</td>\n",
       "      <td>...</td>\n",
       "      <td>...</td>\n",
       "      <td>...</td>\n",
       "      <td>...</td>\n",
       "      <td>...</td>\n",
       "    </tr>\n",
       "    <tr>\n",
       "      <th>3255</th>\n",
       "      <td>Çatalca</td>\n",
       "      <td>31623930</td>\n",
       "      <td>95</td>\n",
       "      <td>2+1</td>\n",
       "      <td>1.Kat</td>\n",
       "      <td>Doğalgaz</td>\n",
       "      <td>Krediye Uygun Değil</td>\n",
       "      <td>1</td>\n",
       "      <td>Villa</td>\n",
       "      <td>585</td>\n",
       "      <td>0</td>\n",
       "      <td>2</td>\n",
       "      <td>Hayır</td>\n",
       "    </tr>\n",
       "    <tr>\n",
       "      <th>3256</th>\n",
       "      <td>Çatalca</td>\n",
       "      <td>19914140</td>\n",
       "      <td>320</td>\n",
       "      <td>5+1</td>\n",
       "      <td>1.Kat</td>\n",
       "      <td>Doğalgaz</td>\n",
       "      <td>Krediye Uygun</td>\n",
       "      <td>2</td>\n",
       "      <td>Villa</td>\n",
       "      <td>340</td>\n",
       "      <td>16-20</td>\n",
       "      <td>2</td>\n",
       "      <td>Hayır</td>\n",
       "    </tr>\n",
       "    <tr>\n",
       "      <th>3257</th>\n",
       "      <td>Çatalca</td>\n",
       "      <td>24670880</td>\n",
       "      <td>140</td>\n",
       "      <td>3+1</td>\n",
       "      <td>1.Kat</td>\n",
       "      <td>Doğalgaz</td>\n",
       "      <td>Krediye Uygun</td>\n",
       "      <td>1</td>\n",
       "      <td>Villa</td>\n",
       "      <td>580</td>\n",
       "      <td>3</td>\n",
       "      <td>1</td>\n",
       "      <td>Hayır</td>\n",
       "    </tr>\n",
       "    <tr>\n",
       "      <th>3258</th>\n",
       "      <td>Çatalca</td>\n",
       "      <td>2920200</td>\n",
       "      <td>85</td>\n",
       "      <td>2+1</td>\n",
       "      <td>Giriş</td>\n",
       "      <td>Doğalgaz</td>\n",
       "      <td>Krediye Uygun</td>\n",
       "      <td>1</td>\n",
       "      <td>Daire</td>\n",
       "      <td>100</td>\n",
       "      <td>4</td>\n",
       "      <td>5</td>\n",
       "      <td>Evet</td>\n",
       "    </tr>\n",
       "    <tr>\n",
       "      <th>3259</th>\n",
       "      <td>Çatalca</td>\n",
       "      <td>639480000</td>\n",
       "      <td>1500</td>\n",
       "      <td>9+</td>\n",
       "      <td>1.Kat</td>\n",
       "      <td>Doğalgaz</td>\n",
       "      <td>Krediye Uygun</td>\n",
       "      <td>6+</td>\n",
       "      <td>Villa</td>\n",
       "      <td>15000</td>\n",
       "      <td>5-10</td>\n",
       "      <td>3</td>\n",
       "      <td>Hayır</td>\n",
       "    </tr>\n",
       "  </tbody>\n",
       "</table>\n",
       "<p>3260 rows × 13 columns</p>\n",
       "</div>"
      ],
      "text/plain": [
       "     ilan_ilce  ilan_fiyat  net_metrekare oda_sayısı bulunduğu_kat  \\\n",
       "0      Kadıköy    13616020            180        4+2  Çatı Dubleks   \n",
       "1      Kadıköy    14166240            180        5+2  Çatı Dubleks   \n",
       "2      Kadıköy     2430720             50        2+1         1.Kat   \n",
       "3      Kadıköy     4219060             63        2+1         5.Kat   \n",
       "4      Kadıköy     5151360             70        2+1         5.Kat   \n",
       "...        ...         ...            ...        ...           ...   \n",
       "3255   Çatalca    31623930             95        2+1         1.Kat   \n",
       "3256   Çatalca    19914140            320        5+1         1.Kat   \n",
       "3257   Çatalca    24670880            140        3+1         1.Kat   \n",
       "3258   Çatalca     2920200             85        2+1         Giriş   \n",
       "3259   Çatalca   639480000           1500         9+         1.Kat   \n",
       "\n",
       "        ısıtma_tipi     krediye_uygunluk banyo_sayısı   tipi  brüt_metrekare  \\\n",
       "0     Yerden Isıtma        Krediye Uygun            2  Daire             220   \n",
       "1           Merkezi        Krediye Uygun            2  Daire             220   \n",
       "2          Doğalgaz        Krediye Uygun            1  Daire              60   \n",
       "3     Yerden Isıtma        Krediye Uygun            1  Daire              85   \n",
       "4           Merkezi        Krediye Uygun            1  Daire              80   \n",
       "...             ...                  ...          ...    ...             ...   \n",
       "3255       Doğalgaz  Krediye Uygun Değil            1  Villa             585   \n",
       "3256       Doğalgaz        Krediye Uygun            2  Villa             340   \n",
       "3257       Doğalgaz        Krediye Uygun            1  Villa             580   \n",
       "3258       Doğalgaz        Krediye Uygun            1  Daire             100   \n",
       "3259       Doğalgaz        Krediye Uygun           6+  Villa           15000   \n",
       "\n",
       "     binanın_yaşı  binanın_kat_sayısı site_içerisinde  \n",
       "0            5-10                   9           Hayır  \n",
       "1               0                  15           Hayır  \n",
       "2     21 Ve Üzeri                   4           Hayır  \n",
       "3               0                   7           Hayır  \n",
       "4            5-10                  15           Hayır  \n",
       "...           ...                 ...             ...  \n",
       "3255            0                   2           Hayır  \n",
       "3256        16-20                   2           Hayır  \n",
       "3257            3                   1           Hayır  \n",
       "3258            4                   5            Evet  \n",
       "3259         5-10                   3           Hayır  \n",
       "\n",
       "[3260 rows x 13 columns]"
      ]
     },
     "execution_count": 112,
     "metadata": {},
     "output_type": "execute_result"
    }
   ],
   "source": [
    "df"
   ]
  },
  {
   "cell_type": "code",
   "execution_count": 113,
   "id": "ad23773c-cc88-43e3-89e1-b7c16f42e899",
   "metadata": {},
   "outputs": [],
   "source": [
    "from sklearn import preprocessing \n",
    "le = preprocessing.LabelEncoder()"
   ]
  },
  {
   "cell_type": "code",
   "execution_count": 114,
   "id": "d1da3695-8a66-4972-8bb4-c5486c493394",
   "metadata": {},
   "outputs": [],
   "source": [
    "df_2 = df.copy()\n",
    "df_3 = df.copy()"
   ]
  },
  {
   "cell_type": "code",
   "execution_count": 115,
   "id": "ee7aa7cc-c0b6-45f0-840a-bb060db4e2ee",
   "metadata": {},
   "outputs": [],
   "source": [
    "df_3[\"ilan_ilce\"] = le.fit_transform(df_2.ilan_ilce)"
   ]
  },
  {
   "cell_type": "code",
   "execution_count": 116,
   "id": "5e3a5ab2-0340-4f4b-a814-4351082b0011",
   "metadata": {},
   "outputs": [],
   "source": [
    "df_3[\"oda_sayısı\"] = le.fit_transform(df_2.oda_sayısı)"
   ]
  },
  {
   "cell_type": "code",
   "execution_count": 117,
   "id": "4526aaa1-c110-4741-a4af-4bb95f06b6dd",
   "metadata": {},
   "outputs": [],
   "source": [
    "df_3[\"bulunduğu_kat\"] = le.fit_transform(df_2.bulunduğu_kat)"
   ]
  },
  {
   "cell_type": "code",
   "execution_count": 118,
   "id": "2d676d2d-67a2-4e56-a314-0a2ce1be39e4",
   "metadata": {},
   "outputs": [],
   "source": [
    "df_3[\"ısıtma_tipi\"] = le.fit_transform(df_2.ısıtma_tipi)"
   ]
  },
  {
   "cell_type": "code",
   "execution_count": 119,
   "id": "0397a2ff-d2f0-4ec3-85e8-20688290dc90",
   "metadata": {},
   "outputs": [],
   "source": [
    "df_3[\"krediye_uygunluk\"] = le.fit_transform(df_2.krediye_uygunluk)"
   ]
  },
  {
   "cell_type": "code",
   "execution_count": 120,
   "id": "57340e88-bbee-4af5-a0a1-6a157f1e3fc6",
   "metadata": {},
   "outputs": [],
   "source": [
    "df_3[\"banyo_sayısı\"] = le.fit_transform(df_2.banyo_sayısı)"
   ]
  },
  {
   "cell_type": "code",
   "execution_count": 121,
   "id": "5ae10411-77e0-439a-b94f-99e1fd4b5471",
   "metadata": {},
   "outputs": [],
   "source": [
    "df_3[\"tipi\"] = le.fit_transform(df_2.tipi)"
   ]
  },
  {
   "cell_type": "code",
   "execution_count": 122,
   "id": "c35a11dd-440c-4f62-9416-f7a6c9d94b6b",
   "metadata": {},
   "outputs": [],
   "source": [
    "df_3[\"binanın_yaşı\"] = le.fit_transform(df_2.binanın_yaşı)"
   ]
  },
  {
   "cell_type": "code",
   "execution_count": 123,
   "id": "c1a8ce9b-d841-4265-b7ea-333fbd44a59c",
   "metadata": {},
   "outputs": [],
   "source": [
    "df_3[\"binanın_kat_sayısı\"] = le.fit_transform(df_2.binanın_kat_sayısı)"
   ]
  },
  {
   "cell_type": "code",
   "execution_count": 124,
   "id": "0100dad7-8012-48aa-80a1-8c21a06e6bb9",
   "metadata": {},
   "outputs": [],
   "source": [
    "df_3[\"binanın_yaşı\"] = le.fit_transform(df_2.binanın_yaşı)"
   ]
  },
  {
   "cell_type": "code",
   "execution_count": 125,
   "id": "427f96a5-2596-49f4-b36a-2c3a9bc22107",
   "metadata": {},
   "outputs": [],
   "source": [
    "df_3[\"binanın_kat_sayısı\"] = le.fit_transform(df_2.binanın_kat_sayısı)"
   ]
  },
  {
   "cell_type": "code",
   "execution_count": 126,
   "id": "e2dc9f42-74f8-45a5-a0ef-b3f1994279c0",
   "metadata": {},
   "outputs": [],
   "source": [
    "df_3[\"site_içerisinde\"] = le.fit_transform(df_2.site_içerisinde)"
   ]
  },
  {
   "cell_type": "code",
   "execution_count": 127,
   "id": "d19c2fe0-0f03-4452-aa1f-ba63626c7fee",
   "metadata": {},
   "outputs": [],
   "source": [
    "df_3.to_csv(\"emlakjetisleme.csv\")"
   ]
  },
  {
   "cell_type": "code",
   "execution_count": 128,
   "id": "8779e84a-9d3e-47a8-bc4a-3faefb2de214",
   "metadata": {},
   "outputs": [],
   "source": [
    "df = pd.read_csv(\"emlakjetisleme.csv\")"
   ]
  },
  {
   "cell_type": "code",
   "execution_count": 129,
   "id": "e84aae0c-508c-4753-9bce-67d89ecfe1f3",
   "metadata": {},
   "outputs": [],
   "source": [
    "df['net_metrekare'] = df['net_metrekare'].astype(int)\n",
    "df['brüt_metrekare'] = df['brüt_metrekare'].astype(int)\n"
   ]
  },
  {
   "cell_type": "code",
   "execution_count": 130,
   "id": "46f4f6de-38a3-4e09-951c-65a416df284c",
   "metadata": {},
   "outputs": [
    {
     "name": "stdout",
     "output_type": "stream",
     "text": [
      "<class 'pandas.core.frame.DataFrame'>\n",
      "RangeIndex: 3260 entries, 0 to 3259\n",
      "Data columns (total 13 columns):\n",
      " #   Column              Non-Null Count  Dtype\n",
      "---  ------              --------------  -----\n",
      " 0   ilan_ilce           3260 non-null   int64\n",
      " 1   ilan_fiyat          3260 non-null   int64\n",
      " 2   net_metrekare       3260 non-null   int32\n",
      " 3   oda_sayısı          3260 non-null   int64\n",
      " 4   bulunduğu_kat       3260 non-null   int64\n",
      " 5   ısıtma_tipi         3260 non-null   int64\n",
      " 6   krediye_uygunluk    3260 non-null   int64\n",
      " 7   banyo_sayısı        3260 non-null   int64\n",
      " 8   tipi                3260 non-null   int64\n",
      " 9   brüt_metrekare      3260 non-null   int32\n",
      " 10  binanın_yaşı        3260 non-null   int64\n",
      " 11  binanın_kat_sayısı  3260 non-null   int64\n",
      " 12  site_içerisinde     3260 non-null   int64\n",
      "dtypes: int32(2), int64(11)\n",
      "memory usage: 305.8 KB\n"
     ]
    }
   ],
   "source": [
    "df.info()"
   ]
  },
  {
   "cell_type": "code",
   "execution_count": null,
   "id": "bb8ff6d2-4a7a-404f-9105-49b7ac9c881f",
   "metadata": {},
   "outputs": [],
   "source": []
  },
  {
   "cell_type": "code",
   "execution_count": null,
   "id": "ee9ffec7-0b48-48d7-bc06-e31afb2d5230",
   "metadata": {},
   "outputs": [],
   "source": []
  },
  {
   "cell_type": "code",
   "execution_count": null,
   "id": "c7e7dcdc-1bce-472a-bfe4-329da8052c50",
   "metadata": {},
   "outputs": [],
   "source": []
  }
 ],
 "metadata": {
  "kernelspec": {
   "display_name": "Python 3 (ipykernel)",
   "language": "python",
   "name": "python3"
  },
  "language_info": {
   "codemirror_mode": {
    "name": "ipython",
    "version": 3
   },
   "file_extension": ".py",
   "mimetype": "text/x-python",
   "name": "python",
   "nbconvert_exporter": "python",
   "pygments_lexer": "ipython3",
   "version": "3.12.2"
  }
 },
 "nbformat": 4,
 "nbformat_minor": 5
}
